{
 "cells": [
  {
   "cell_type": "code",
   "execution_count": 1,
   "metadata": {},
   "outputs": [],
   "source": [
    "import numpy as np\n",
    "from models import Sequential\n",
    "from modules import *\n",
    "from optimizers import SGDM, SGD, Adam\n",
    "from loss import CCE\n",
    "from utils import onehot\n",
    "from dataset import Dataset\n",
    "from keras.datasets import mnist\n"
   ]
  },
  {
   "cell_type": "code",
   "execution_count": 2,
   "metadata": {},
   "outputs": [],
   "source": [
    "data = mnist.load_data()"
   ]
  },
  {
   "cell_type": "code",
   "execution_count": 3,
   "metadata": {},
   "outputs": [],
   "source": [
    "train, test = data\n",
    "x_train, y_train = train\n",
    "x_train = x_train / 255\n",
    "y_train = onehot(y_train)\n",
    "x_test, y_test = test\n",
    "x_test = x_test / 255\n",
    "y_test = onehot(y_test)"
   ]
  },
  {
   "cell_type": "code",
   "execution_count": 4,
   "metadata": {},
   "outputs": [],
   "source": [
    "dataset = Dataset(x_train, y_train)"
   ]
  },
  {
   "cell_type": "code",
   "execution_count": 5,
   "metadata": {},
   "outputs": [],
   "source": [
    "relu = Activation(\"relu\")\n",
    "layers = [Flatten(), Linear(28 * 28, 128), BatchNorm(128), relu,\n",
    "            Linear(128, 64), BatchNorm(64), relu, Linear(64, 10)]\n",
    "network = Sequential(*layers)\n",
    "loss = CCE()\n",
    "optimizer = SGD(network.parameters(), lr=0.1)"
   ]
  },
  {
   "cell_type": "code",
   "execution_count": 6,
   "metadata": {},
   "outputs": [
    {
     "name": "stdout",
     "output_type": "stream",
     "text": [
      "Epoch: 1/3 | Loss: 0.932542 | Accuracy: 69.62%\n",
      "Epoch: 2/3 | Loss: 0.721061 | Accuracy: 76.66%\n",
      "Epoch: 3/3 | Loss: 0.687289 | Accuracy: 77.67%\n"
     ]
    },
    {
     "data": {
      "text/plain": [
       "(1463.0573396616267, 1399.6979166666667)"
      ]
     },
     "execution_count": 6,
     "metadata": {},
     "output_type": "execute_result"
    }
   ],
   "source": [
    "network.train(optimizer, loss, dataset, epochs=5)"
   ]
  }
 ],
 "metadata": {
  "kernelspec": {
   "display_name": "Python 3.10.1 64-bit",
   "language": "python",
   "name": "python3"
  },
  "language_info": {
   "codemirror_mode": {
    "name": "ipython",
    "version": 3
   },
   "file_extension": ".py",
   "mimetype": "text/x-python",
   "name": "python",
   "nbconvert_exporter": "python",
   "pygments_lexer": "ipython3",
   "version": "3.10.1"
  },
  "orig_nbformat": 4,
  "vscode": {
   "interpreter": {
    "hash": "aee8b7b246df8f9039afb4144a1f6fd8d2ca17a180786b69acc140d282b71a49"
   }
  }
 },
 "nbformat": 4,
 "nbformat_minor": 2
}
