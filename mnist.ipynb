{
 "cells": [
  {
   "cell_type": "code",
   "execution_count": 1,
   "metadata": {},
   "outputs": [],
   "source": [
    "import numpy as np\n",
    "from models import Sequential\n",
    "from modules import *\n",
    "from optimizers import SGDM, SGD, Adam\n",
    "from loss import CCE\n",
    "from utils import onehot\n",
    "from dataset import Dataset\n",
    "from keras.datasets import mnist\n"
   ]
  },
  {
   "cell_type": "code",
   "execution_count": 2,
   "metadata": {},
   "outputs": [],
   "source": [
    "data = mnist.load_data()"
   ]
  },
  {
   "cell_type": "code",
   "execution_count": 3,
   "metadata": {},
   "outputs": [],
   "source": [
    "train, test = data\n",
    "x_train, y_train = train\n",
    "x_train = x_train / 255\n",
    "y_train = onehot(y_train)\n",
    "x_test, y_test = test\n",
    "x_test = x_test / 255\n",
    "y_test = onehot(y_test)"
   ]
  },
  {
   "cell_type": "code",
   "execution_count": 4,
   "metadata": {},
   "outputs": [],
   "source": [
    "dataset = Dataset(x_train, y_train)"
   ]
  },
  {
   "cell_type": "code",
   "execution_count": 5,
   "metadata": {},
   "outputs": [],
   "source": [
    "relu = Activation(\"relu\")\n",
    "layers = [Flatten(), Linear(28 * 28, 128), relu,\n",
    "            Linear(128, 64), relu, Linear(64, 10)]\n",
    "network = Sequential(*layers)\n",
    "loss = CCE()\n",
    "optimizer = Adam(network.parameters(), lr=0.01)"
   ]
  },
  {
   "cell_type": "code",
   "execution_count": 6,
   "metadata": {},
   "outputs": [
    {
     "name": "stdout",
     "output_type": "stream",
     "text": [
      "Epoch: 1/10 | Loss: 0.340333 | Accuracy: 90.70%\n",
      "Epoch: 2/10 | Loss: 0.190770 | Accuracy: 94.65%\n",
      "Epoch: 3/10 | Loss: 0.169898 | Accuracy: 95.48%\n",
      "Epoch: 4/10 | Loss: 0.154235 | Accuracy: 96.05%\n",
      "Epoch: 5/10 | Loss: 0.136520 | Accuracy: 96.47%\n",
      "Epoch: 6/10 | Loss: 0.126820 | Accuracy: 96.80%\n",
      "Epoch: 7/10 | Loss: 0.123200 | Accuracy: 96.97%\n",
      "Epoch: 8/10 | Loss: 0.113292 | Accuracy: 97.20%\n",
      "Epoch: 9/10 | Loss: 0.110513 | Accuracy: 97.34%\n",
      "Epoch: 10/10 | Loss: 0.104016 | Accuracy: 97.52%\n"
     ]
    },
    {
     "data": {
      "text/plain": [
       "(294.29938430661235, 1798.440625)"
      ]
     },
     "execution_count": 6,
     "metadata": {},
     "output_type": "execute_result"
    }
   ],
   "source": [
    "network.train(optimizer, loss, dataset, epochs=10)"
   ]
  },
  {
   "cell_type": "code",
   "execution_count": 7,
   "metadata": {},
   "outputs": [],
   "source": [
    "testset = Dataset(x_test, y_test, drop_last=False)"
   ]
  },
  {
   "cell_type": "code",
   "execution_count": 8,
   "metadata": {},
   "outputs": [
    {
     "name": "stdout",
     "output_type": "stream",
     "text": [
      "Loss: 0.1741 | Accuracy: 96.68%\n"
     ]
    },
    {
     "data": {
      "text/plain": [
       "(0.17414716160208416, 0.9667531948881789)"
      ]
     },
     "execution_count": 8,
     "metadata": {},
     "output_type": "execute_result"
    }
   ],
   "source": [
    "network.test(loss, testset)"
   ]
  }
 ],
 "metadata": {
  "kernelspec": {
   "display_name": "Python 3.10.1 64-bit",
   "language": "python",
   "name": "python3"
  },
  "language_info": {
   "codemirror_mode": {
    "name": "ipython",
    "version": 3
   },
   "file_extension": ".py",
   "mimetype": "text/x-python",
   "name": "python",
   "nbconvert_exporter": "python",
   "pygments_lexer": "ipython3",
   "version": "3.10.1"
  },
  "orig_nbformat": 4,
  "vscode": {
   "interpreter": {
    "hash": "aee8b7b246df8f9039afb4144a1f6fd8d2ca17a180786b69acc140d282b71a49"
   }
  }
 },
 "nbformat": 4,
 "nbformat_minor": 2
}
