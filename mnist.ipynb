{
 "cells": [
  {
   "cell_type": "code",
   "execution_count": 1,
   "metadata": {},
   "outputs": [],
   "source": [
    "import numpy as np\n",
    "import matplotlib.pyplot as plt\n",
    "from models import Sequential\n",
    "from modules import *\n",
    "from activations import *\n",
    "from optimizers import *\n",
    "from loss import *\n",
    "from utils import onehot\n",
    "from dataset import Dataset\n",
    "from keras.datasets import mnist"
   ]
  },
  {
   "cell_type": "code",
   "execution_count": 2,
   "metadata": {},
   "outputs": [],
   "source": [
    "data = mnist.load_data()"
   ]
  },
  {
   "cell_type": "code",
   "execution_count": 3,
   "metadata": {},
   "outputs": [],
   "source": [
    "train, test = data\n",
    "x_train, y_train = train\n",
    "x_train = x_train / 255\n",
    "# y_train = onehot(y_train)\n",
    "x_test, y_test = test\n",
    "x_test = x_test / 255\n",
    "# y_test = onehot(y_test)"
   ]
  },
  {
   "cell_type": "code",
   "execution_count": 4,
   "metadata": {},
   "outputs": [],
   "source": [
    "dataset = Dataset(x_train, y_train, drop_last=True)"
   ]
  },
  {
   "cell_type": "code",
   "execution_count": 11,
   "metadata": {},
   "outputs": [],
   "source": [
    "layers = [Flatten(), Linear(28 * 28, 128), LayerNorm(128), ReLU(),\n",
    "        Linear(128, 64), LayerNorm(64), ReLU(), Dropout(0.1), Linear(64, 10)]\n",
    "model = Sequential(*layers)\n",
    "optimizer = RMSprop(model.parameters(), lr=0.001)\n",
    "loss = SCCE()"
   ]
  },
  {
   "cell_type": "code",
   "execution_count": 10,
   "metadata": {},
   "outputs": [
    {
     "name": "stdout",
     "output_type": "stream",
     "text": [
      "Epoch: 1/5 | Loss: 0.333865 | Accuracy: 90.72%\n",
      "Epoch: 2/5 | Loss: 0.241323 | Accuracy: 94.03%\n",
      "Epoch: 3/5 | Loss: 0.220066 | Accuracy: 94.96%\n",
      "Epoch: 4/5 | Loss: 0.210620 | Accuracy: 95.34%\n",
      "Epoch: 5/5 | Loss: 0.199660 | Accuracy: 95.66%\n"
     ]
    },
    {
     "data": {
      "text/plain": [
       "(0.24110682658895125, 0.9414066666666667)"
      ]
     },
     "execution_count": 10,
     "metadata": {},
     "output_type": "execute_result"
    }
   ],
   "source": [
    "model.train(optimizer, loss, dataset, epochs=5)"
   ]
  },
  {
   "cell_type": "code",
   "execution_count": 7,
   "metadata": {},
   "outputs": [],
   "source": [
    "testset = Dataset(x_test, y_test, drop_last=True)"
   ]
  },
  {
   "cell_type": "code",
   "execution_count": 8,
   "metadata": {},
   "outputs": [
    {
     "name": "stdout",
     "output_type": "stream",
     "text": [
      "Loss: 0.1510 | Accuracy: 96.40%\n"
     ]
    },
    {
     "data": {
      "text/plain": [
       "(0.15098004057839326, 0.964042467948718)"
      ]
     },
     "execution_count": 8,
     "metadata": {},
     "output_type": "execute_result"
    }
   ],
   "source": [
    "model.test(loss, testset)"
   ]
  }
 ],
 "metadata": {
  "kernelspec": {
   "display_name": "Python 3.10.1 64-bit",
   "language": "python",
   "name": "python3"
  },
  "language_info": {
   "codemirror_mode": {
    "name": "ipython",
    "version": 3
   },
   "file_extension": ".py",
   "mimetype": "text/x-python",
   "name": "python",
   "nbconvert_exporter": "python",
   "pygments_lexer": "ipython3",
   "version": "3.10.1"
  },
  "orig_nbformat": 4,
  "vscode": {
   "interpreter": {
    "hash": "aee8b7b246df8f9039afb4144a1f6fd8d2ca17a180786b69acc140d282b71a49"
   }
  }
 },
 "nbformat": 4,
 "nbformat_minor": 2
}
