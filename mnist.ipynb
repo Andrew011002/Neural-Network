{
 "cells": [
  {
   "cell_type": "code",
   "execution_count": 1,
   "metadata": {},
   "outputs": [],
   "source": [
    "import numpy as np\n",
    "from models import Sequential\n",
    "from modules import *\n",
    "from optimizers import SGDM, SGD, Adam\n",
    "from loss import CCE\n",
    "from utils import onehot\n",
    "from dataset import Dataset\n",
    "from keras.datasets import mnist\n"
   ]
  },
  {
   "cell_type": "code",
   "execution_count": 2,
   "metadata": {},
   "outputs": [],
   "source": [
    "data = mnist.load_data()"
   ]
  },
  {
   "cell_type": "code",
   "execution_count": 3,
   "metadata": {},
   "outputs": [],
   "source": [
    "train, test = data\n",
    "x_train, y_train = train\n",
    "x_train = x_train / 255\n",
    "y_train = onehot(y_train)\n",
    "x_test, y_test = test\n",
    "x_test = x_test / 255\n",
    "y_test = onehot(y_test)"
   ]
  },
  {
   "cell_type": "code",
   "execution_count": 8,
   "metadata": {},
   "outputs": [],
   "source": [
    "dataset = Dataset(x_train, y_train)"
   ]
  },
  {
   "cell_type": "code",
   "execution_count": 16,
   "metadata": {},
   "outputs": [],
   "source": [
    "relu = Activation(\"relu\")\n",
    "layers = [Flatten(), Linear(28 * 28, 128), relu,\n",
    "            Linear(128, 64), relu, Linear(64, 10)]\n",
    "network = Sequential(*layers)\n",
    "loss = CCE()\n",
    "optimizer = Adam(network.parameters(), lr=0.01)"
   ]
  },
  {
   "cell_type": "code",
   "execution_count": 17,
   "metadata": {},
   "outputs": [
    {
     "name": "stdout",
     "output_type": "stream",
     "text": [
      "Epoch: 1/10 | Loss: 0.344201 | Accuracy: 90.77%\n",
      "Epoch: 2/10 | Loss: 0.204549 | Accuracy: 94.30%\n",
      "Epoch: 3/10 | Loss: 0.178239 | Accuracy: 95.24%\n",
      "Epoch: 4/10 | Loss: 0.162008 | Accuracy: 95.77%\n",
      "Epoch: 5/10 | Loss: 0.150532 | Accuracy: 96.12%\n",
      "Epoch: 6/10 | Loss: 0.141709 | Accuracy: 96.43%\n",
      "Epoch: 7/10 | Loss: 0.121900 | Accuracy: 96.98%\n",
      "Epoch: 8/10 | Loss: 0.126655 | Accuracy: 96.88%\n",
      "Epoch: 9/10 | Loss: 0.118645 | Accuracy: 97.11%\n",
      "Epoch: 10/10 | Loss: 0.115323 | Accuracy: 97.16%\n"
     ]
    },
    {
     "data": {
      "text/plain": [
       "(311.95486670915705, 1793.903125)"
      ]
     },
     "execution_count": 17,
     "metadata": {},
     "output_type": "execute_result"
    }
   ],
   "source": [
    "network.train(optimizer, loss, dataset, epochs=10)"
   ]
  }
 ],
 "metadata": {
  "kernelspec": {
   "display_name": "Python 3.10.1 64-bit",
   "language": "python",
   "name": "python3"
  },
  "language_info": {
   "codemirror_mode": {
    "name": "ipython",
    "version": 3
   },
   "file_extension": ".py",
   "mimetype": "text/x-python",
   "name": "python",
   "nbconvert_exporter": "python",
   "pygments_lexer": "ipython3",
   "version": "3.10.1"
  },
  "orig_nbformat": 4,
  "vscode": {
   "interpreter": {
    "hash": "aee8b7b246df8f9039afb4144a1f6fd8d2ca17a180786b69acc140d282b71a49"
   }
  }
 },
 "nbformat": 4,
 "nbformat_minor": 2
}
