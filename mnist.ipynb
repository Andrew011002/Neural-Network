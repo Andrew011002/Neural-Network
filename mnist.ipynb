{
 "cells": [
  {
   "cell_type": "code",
   "execution_count": 1,
   "metadata": {},
   "outputs": [],
   "source": [
    "import numpy as np\n",
    "import matplotlib.pyplot as plt\n",
    "from models import Sequential\n",
    "from modules import *\n",
    "from optimizers import Adam\n",
    "from loss import CCE\n",
    "from utils import onehot\n",
    "from dataset import Dataset\n",
    "from keras.datasets import mnist\n"
   ]
  },
  {
   "cell_type": "code",
   "execution_count": 2,
   "metadata": {},
   "outputs": [],
   "source": [
    "data = mnist.load_data()"
   ]
  },
  {
   "cell_type": "code",
   "execution_count": 3,
   "metadata": {},
   "outputs": [],
   "source": [
    "train, test = data\n",
    "x_train, y_train = train\n",
    "x_train = x_train / 255\n",
    "y_train = onehot(y_train)\n",
    "x_test, y_test = test\n",
    "x_test = x_test / 255\n",
    "y_test = onehot(y_test)"
   ]
  },
  {
   "cell_type": "code",
   "execution_count": 4,
   "metadata": {},
   "outputs": [],
   "source": [
    "dataset = Dataset(x_train, y_train)"
   ]
  },
  {
   "cell_type": "code",
   "execution_count": 7,
   "metadata": {},
   "outputs": [],
   "source": [
    "relu = Activation(\"relu\")\n",
    "layers = [Flatten(), Linear(28 * 28, 128), relu,\n",
    "        Linear(128, 64), relu, Linear(64, 10)]\n",
    "network = Sequential(*layers)\n",
    "optimizer = Adam(network.parameters(), lr=0.01)\n",
    "loss = CCE()"
   ]
  },
  {
   "cell_type": "code",
   "execution_count": 8,
   "metadata": {},
   "outputs": [
    {
     "name": "stdout",
     "output_type": "stream",
     "text": [
      "Epoch: 1/5 | Loss: 0.275642 | Accuracy: 92.04%\n",
      "Epoch: 2/5 | Loss: 0.184621 | Accuracy: 94.98%\n",
      "Epoch: 3/5 | Loss: 0.157706 | Accuracy: 95.81%\n",
      "Epoch: 4/5 | Loss: 0.140122 | Accuracy: 96.22%\n",
      "Epoch: 5/5 | Loss: 0.133841 | Accuracy: 96.60%\n"
     ]
    },
    {
     "data": {
      "text/plain": [
       "(334.47434048465107, 1783.70625)"
      ]
     },
     "execution_count": 8,
     "metadata": {},
     "output_type": "execute_result"
    }
   ],
   "source": [
    "network.train(optimizer, loss, dataset, epochs=5)"
   ]
  },
  {
   "cell_type": "code",
   "execution_count": 9,
   "metadata": {},
   "outputs": [],
   "source": [
    "testset = Dataset(x_test, y_test, drop_last=False)"
   ]
  },
  {
   "cell_type": "code",
   "execution_count": 10,
   "metadata": {},
   "outputs": [
    {
     "name": "stdout",
     "output_type": "stream",
     "text": [
      "Loss: 0.1963 | Accuracy: 95.82%\n"
     ]
    },
    {
     "data": {
      "text/plain": [
       "(0.1962697301830675, 0.9581669329073482)"
      ]
     },
     "execution_count": 10,
     "metadata": {},
     "output_type": "execute_result"
    }
   ],
   "source": [
    "network.test(loss, testset)"
   ]
  }
 ],
 "metadata": {
  "kernelspec": {
   "display_name": "Python 3.10.1 64-bit",
   "language": "python",
   "name": "python3"
  },
  "language_info": {
   "codemirror_mode": {
    "name": "ipython",
    "version": 3
   },
   "file_extension": ".py",
   "mimetype": "text/x-python",
   "name": "python",
   "nbconvert_exporter": "python",
   "pygments_lexer": "ipython3",
   "version": "3.10.1"
  },
  "orig_nbformat": 4,
  "vscode": {
   "interpreter": {
    "hash": "aee8b7b246df8f9039afb4144a1f6fd8d2ca17a180786b69acc140d282b71a49"
   }
  }
 },
 "nbformat": 4,
 "nbformat_minor": 2
}
